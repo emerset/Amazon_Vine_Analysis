{
  "cells": [
    {
      "cell_type": "code",
      "execution_count": 1,
      "metadata": {
        "colab": {
          "base_uri": "https://localhost:8080/"
        },
        "id": "V58rxea0HqSa",
        "outputId": "529a7914-737a-4f8d-cb61-346ff83cb020"
      },
      "outputs": [
        {
          "output_type": "stream",
          "name": "stdout",
          "text": [
            "Looking in indexes: https://pypi.org/simple, https://us-python.pkg.dev/colab-wheels/public/simple/\n",
            "Collecting pyspark\n",
            "  Downloading pyspark-3.3.1.tar.gz (281.4 MB)\n",
            "\u001b[2K     \u001b[90m━━━━━━━━━━━━━━━━━━━━━━━━━━━━━━━━━━━━━━━\u001b[0m \u001b[32m281.4/281.4 MB\u001b[0m \u001b[31m3.6 MB/s\u001b[0m eta \u001b[36m0:00:00\u001b[0m\n",
            "\u001b[?25h  Preparing metadata (setup.py) ... \u001b[?25l\u001b[?25hdone\n",
            "Collecting py4j==0.10.9.5\n",
            "  Downloading py4j-0.10.9.5-py2.py3-none-any.whl (199 kB)\n",
            "\u001b[2K     \u001b[90m━━━━━━━━━━━━━━━━━━━━━━━━━━━━━━━━━━━━━━\u001b[0m \u001b[32m199.7/199.7 KB\u001b[0m \u001b[31m12.8 MB/s\u001b[0m eta \u001b[36m0:00:00\u001b[0m\n",
            "\u001b[?25hBuilding wheels for collected packages: pyspark\n",
            "  Building wheel for pyspark (setup.py) ... \u001b[?25l\u001b[?25hdone\n",
            "  Created wheel for pyspark: filename=pyspark-3.3.1-py2.py3-none-any.whl size=281845512 sha256=3c19190f0da749da11bd1e4b4829627669bcfd22bec040d53ece4dab27a2c397\n",
            "  Stored in directory: /root/.cache/pip/wheels/43/dc/11/ec201cd671da62fa9c5cc77078235e40722170ceba231d7598\n",
            "Successfully built pyspark\n",
            "Installing collected packages: py4j, pyspark\n",
            "Successfully installed py4j-0.10.9.5 pyspark-3.3.1\n"
          ]
        }
      ],
      "source": [
        "!pip install pyspark"
      ]
    },
    {
      "cell_type": "code",
      "execution_count": 2,
      "metadata": {
        "colab": {
          "base_uri": "https://localhost:8080/"
        },
        "id": "_xKwTpATHqSe",
        "outputId": "87b43720-279a-4d85-f6ab-7487ab83032f"
      },
      "outputs": [
        {
          "output_type": "stream",
          "name": "stdout",
          "text": [
            "--2023-01-28 13:20:28--  https://jdbc.postgresql.org/download/postgresql-42.2.16.jar\n",
            "Resolving jdbc.postgresql.org (jdbc.postgresql.org)... 72.32.157.228, 2001:4800:3e1:1::228\n",
            "Connecting to jdbc.postgresql.org (jdbc.postgresql.org)|72.32.157.228|:443... connected.\n",
            "HTTP request sent, awaiting response... 200 OK\n",
            "Length: 1002883 (979K) [application/java-archive]\n",
            "Saving to: ‘postgresql-42.2.16.jar’\n",
            "\n",
            "postgresql-42.2.16. 100%[===================>] 979.38K  6.31MB/s    in 0.2s    \n",
            "\n",
            "2023-01-28 13:20:29 (6.31 MB/s) - ‘postgresql-42.2.16.jar’ saved [1002883/1002883]\n",
            "\n"
          ]
        }
      ],
      "source": [
        "# Download the Postgres driver that will allow Spark to interact with Postgres.\n",
        "!wget https://jdbc.postgresql.org/download/postgresql-42.2.16.jar"
      ]
    },
    {
      "cell_type": "code",
      "execution_count": 3,
      "metadata": {
        "id": "MMqDAjVS0KN9"
      },
      "outputs": [],
      "source": [
        "# Create Spark Session \"M17-Amazon-Challenge\"\n",
        "from pyspark.sql import SparkSession\n",
        "spark = SparkSession.builder.appName(\"M17-Amazon-Challenge\").config(\"spark.driver.extraClassPath\",\"/content/postgresql-42.2.16.jar\").getOrCreate()"
      ]
    },
    {
      "cell_type": "markdown",
      "metadata": {
        "id": "cyBsySGuY-9V"
      },
      "source": [
        "### Load Amazon Data into Spark DataFrame"
      ]
    },
    {
      "cell_type": "code",
      "execution_count": 4,
      "metadata": {
        "colab": {
          "base_uri": "https://localhost:8080/"
        },
        "id": "CtCmBhQJY-9Z",
        "outputId": "0e72bfba-2835-4516-b2a6-37e8e5efebec"
      },
      "outputs": [
        {
          "output_type": "stream",
          "name": "stdout",
          "text": [
            "+-----------+-----------+--------------+----------+--------------+--------------------+----------------+-----------+-------------+-----------+----+-----------------+--------------------+--------------------+-------------------+\n",
            "|marketplace|customer_id|     review_id|product_id|product_parent|       product_title|product_category|star_rating|helpful_votes|total_votes|vine|verified_purchase|     review_headline|         review_body|        review_date|\n",
            "+-----------+-----------+--------------+----------+--------------+--------------------+----------------+-----------+-------------+-----------+----+-----------------+--------------------+--------------------+-------------------+\n",
            "|         US|   25933450| RJOVP071AVAJO|0439873800|      84656342|There Was an Old ...|           Books|          5|            0|          0|   N|                Y|          Five Stars|I love it and so ...|2015-08-31 00:00:00|\n",
            "|         US|    1801372|R1ORGBETCDW3AI|1623953553|     729938122|      I Saw a Friend|           Books|          5|            0|          0|   N|                Y|Please buy \"I Saw...|My wife and I ord...|2015-08-31 00:00:00|\n",
            "|         US|    5782091| R7TNRFQAOUTX5|142151981X|     678139048|Black Lagoon, Vol. 6|           Books|          5|            0|          0|   N|                Y|       Shipped fast.|Great book just l...|2015-08-31 00:00:00|\n",
            "|         US|   32715830|R2GANXKDIFZ6OI|014241543X|     712432151|           If I Stay|           Books|          5|            0|          0|   N|                N|          Five Stars|        So beautiful|2015-08-31 00:00:00|\n",
            "|         US|   14005703|R2NYB6C3R8LVN6|1604600527|     800572372|Stars 'N Strips F...|           Books|          5|            2|          2|   N|                Y|          Five Stars|Enjoyed the autho...|2015-08-31 00:00:00|\n",
            "|         US|   36205738|R13U5PBJI1H94K|0399170863|     559876774|            The Liar|           Books|          2|            1|          1|   N|                N|PREDICTABLE ALMOS...|Two or three page...|2015-08-31 00:00:00|\n",
            "|         US|   44121167|R1H8UVH990F8VE|1517007240|     299984591|Devil in the Deta...|           Books|          5|            2|          2|   N|                N|The Monastery Mur...|&#34;Secrets in t...|2015-08-31 00:00:00|\n",
            "|         US|   16519255|R2MC0N30WZMRQ5|0671728725|     821650353|Knowing When to S...|           Books|          5|            0|          0|   N|                Y|          Five Stars|          I love it!|2015-08-31 00:00:00|\n",
            "|         US|   49361350| R2NO2HXK16Y4J|1111349533|     419457767|The American Pageant|           Books|          5|            0|          0|   N|                Y|          Five Stars|It was a great pu...|2015-08-31 00:00:00|\n",
            "|         US|   11423253|R245YIAVJK82ZL|812211637X|     285887177|Punjabi C.L. Bibl...|           Books|          5|            0|          0|   N|                Y|          Five Stars|Quality product f...|2015-08-31 00:00:00|\n",
            "|         US|   37536260| RFBMLBWQOZ1UM|0679413359|      58983679|The Aeneid (Every...|           Books|          5|            0|          0|   N|                Y|          Five Stars|          Very happy|2015-08-31 00:00:00|\n",
            "|         US|   23614950| RHE1FEWV3KTQH|0983990662|     222024699|The YMCA of Middl...|           Books|          5|            0|          0|   N|                Y|Great history boo...|Love reading all ...|2015-08-31 00:00:00|\n",
            "|         US|   12641855|R2BB9U7PHO7ETO|156852062X|     388128348|Memoirs By Harry ...|           Books|          5|            0|          1|   N|                Y|          Five Stars|such a great purc...|2015-08-31 00:00:00|\n",
            "|         US|   36327169|R28XJJP754GYXO|B0007E4WJ4|     842975364|Arms of our fight...|           Books|          4|            0|          0|   N|                Y|          Four Stars|book was fine Tha...|2015-08-31 00:00:00|\n",
            "|         US|   49735028|R2G519UREHRO8M|0664254969|     248307276|Presbyterian Cree...|           Books|          3|            0|          1|   N|                Y|The Presbyterian ...|The Presbyterian ...|2015-08-31 00:00:00|\n",
            "|         US|   39348901| RPBKCEIN3UISD|1570913722|       9340721|Hello Ocean/Hola mar|           Books|          5|            0|          0|   N|                Y|          Five Stars|beautiful work an...|2015-08-31 00:00:00|\n",
            "|         US|    5782091|R2DOB8482VGJ8W|0345313860|     630892090|The Vampire Lesta...|           Books|          5|            0|          0|   N|                Y|       Shipped fast.|This is my favori...|2015-08-31 00:00:00|\n",
            "|         US|   30063158|R2XKOET5M8W36S|0670025593|     479521754|The Book of Life ...|           Books|          5|            0|          0|   N|                Y|One of my favorites!|Love Deborah Harn...|2015-08-31 00:00:00|\n",
            "|         US|     125518|R377BCSTZ4D2QP|161893158X|     399670838|Disney Descendant...|           Books|          5|            1|          1|   N|                Y|... has all three...|Now my daughter h...|2015-08-31 00:00:00|\n",
            "|         US|   22297413|R3A39XZ5SB97MK|007179512X|      47243107|CompTIA A+ Certif...|           Books|          5|            0|          0|   N|                Y|He said it has be...|Bought this book ...|2015-08-31 00:00:00|\n",
            "+-----------+-----------+--------------+----------+--------------+--------------------+----------------+-----------+-------------+-----------+----+-----------------+--------------------+--------------------+-------------------+\n",
            "only showing top 20 rows\n",
            "\n"
          ]
        }
      ],
      "source": [
        "from pyspark import SparkFiles\n",
        "url = \"https://s3.amazonaws.com/amazon-reviews-pds/tsv/amazon_reviews_us_Books_v1_00.tsv.gz\"\n",
        "spark.sparkContext.addFile(url)\n",
        "df = spark.read.option(\"encoding\", \"UTF-8\").csv(SparkFiles.get(\"\"), sep=\"\\t\", header=True, inferSchema=True)\n",
        "df.show()"
      ]
    },
    {
      "cell_type": "code",
      "execution_count": 5,
      "metadata": {
        "id": "C8REmY1aY-9u"
      },
      "outputs": [],
      "source": [
        "from pyspark.sql.functions import col\n",
        "from pyspark.sql.functions import count"
      ]
    },
    {
      "cell_type": "code",
      "execution_count": 6,
      "metadata": {
        "colab": {
          "base_uri": "https://localhost:8080/"
        },
        "id": "lzMmkdKmY--D",
        "outputId": "845acaea-a223-4529-f43c-246c44d6e2f6"
      },
      "outputs": [
        {
          "output_type": "stream",
          "name": "stdout",
          "text": [
            "+--------------+-----------+-------------+-----------+----+-----------------+\n",
            "|     review_id|star_rating|helpful_votes|total_votes|vine|verified_purchase|\n",
            "+--------------+-----------+-------------+-----------+----+-----------------+\n",
            "| RJOVP071AVAJO|          5|            0|          0|   N|                Y|\n",
            "|R1ORGBETCDW3AI|          5|            0|          0|   N|                Y|\n",
            "| R7TNRFQAOUTX5|          5|            0|          0|   N|                Y|\n",
            "|R2GANXKDIFZ6OI|          5|            0|          0|   N|                N|\n",
            "|R2NYB6C3R8LVN6|          5|            2|          2|   N|                Y|\n",
            "|R13U5PBJI1H94K|          2|            1|          1|   N|                N|\n",
            "|R1H8UVH990F8VE|          5|            2|          2|   N|                N|\n",
            "|R2MC0N30WZMRQ5|          5|            0|          0|   N|                Y|\n",
            "| R2NO2HXK16Y4J|          5|            0|          0|   N|                Y|\n",
            "|R245YIAVJK82ZL|          5|            0|          0|   N|                Y|\n",
            "| RFBMLBWQOZ1UM|          5|            0|          0|   N|                Y|\n",
            "| RHE1FEWV3KTQH|          5|            0|          0|   N|                Y|\n",
            "|R2BB9U7PHO7ETO|          5|            0|          1|   N|                Y|\n",
            "|R28XJJP754GYXO|          4|            0|          0|   N|                Y|\n",
            "|R2G519UREHRO8M|          3|            0|          1|   N|                Y|\n",
            "| RPBKCEIN3UISD|          5|            0|          0|   N|                Y|\n",
            "|R2DOB8482VGJ8W|          5|            0|          0|   N|                Y|\n",
            "|R2XKOET5M8W36S|          5|            0|          0|   N|                Y|\n",
            "|R377BCSTZ4D2QP|          5|            1|          1|   N|                Y|\n",
            "|R3A39XZ5SB97MK|          5|            0|          0|   N|                Y|\n",
            "+--------------+-----------+-------------+-----------+----+-----------------+\n",
            "only showing top 20 rows\n",
            "\n"
          ]
        }
      ],
      "source": [
        "# Create the vine_table. DataFrame\n",
        "vine_table = df.select([\"review_id\", \"star_rating\", \"helpful_votes\", \"total_votes\", \"vine\", \"verified_purchase\"])\n",
        "vine_table.show()"
      ]
    },
    {
      "cell_type": "code",
      "execution_count": 7,
      "metadata": {
        "id": "vIrsOoBgkGgC"
      },
      "outputs": [],
      "source": [
        "vine_table = vine_table.withColumn('star_rating_int', col(\"star_rating\").cast(\"int\"))"
      ]
    },
    {
      "cell_type": "code",
      "execution_count": 8,
      "metadata": {
        "colab": {
          "base_uri": "https://localhost:8080/"
        },
        "id": "FbAECiO3m9jr",
        "outputId": "2c7ca76e-1798-45cd-c164-e862ebd46119"
      },
      "outputs": [
        {
          "output_type": "stream",
          "name": "stdout",
          "text": [
            "root\n",
            " |-- review_id: string (nullable = true)\n",
            " |-- star_rating: integer (nullable = true)\n",
            " |-- helpful_votes: integer (nullable = true)\n",
            " |-- total_votes: integer (nullable = true)\n",
            " |-- vine: string (nullable = true)\n",
            " |-- verified_purchase: string (nullable = true)\n",
            "\n"
          ]
        }
      ],
      "source": [
        "vine_table = vine_table.select([\"review_id\", \"star_rating_int\", \"helpful_votes\", \"total_votes\", \"vine\", \"verified_purchase\"]).withColumnRenamed(\"star_rating_int\", \"star_rating\")\n",
        "vine_table.printSchema()"
      ]
    },
    {
      "cell_type": "code",
      "execution_count": 9,
      "metadata": {
        "id": "Exuo6ebUsCqW"
      },
      "outputs": [],
      "source": [
        "# Deliverable 2\n",
        "# Step 1\n",
        "# Filter the data and create a new DataFrame or table to retrieve all the rows where the total_votes count is equal to or greater than 20 \n",
        "# to pick reviews that are more likely to be helpful and to avoid having division by zero errors later on.\n",
        "vine_table_over_20 = vine_table.filter(vine_table.total_votes >= 20)"
      ]
    },
    {
      "cell_type": "code",
      "execution_count": 10,
      "metadata": {
        "id": "UIH695OO9a5X"
      },
      "outputs": [],
      "source": [
        "# Step 2. Filter the new DataFrame created in Step 1 and create a new DataFrame to retrieve all the rows where\n",
        "# the number of helpful_votes divided by total_votes is equal to or greater than 50%.\n",
        "\n",
        "vine_table_helpful_votes_over_50 = vine_table_over_20.filter(vine_table_over_20.helpful_votes / vine_table_over_20.total_votes >= .5)"
      ]
    },
    {
      "cell_type": "code",
      "execution_count": 11,
      "metadata": {
        "colab": {
          "base_uri": "https://localhost:8080/"
        },
        "id": "H1mAdXwy-yXl",
        "outputId": "9eb7817e-78dc-4863-cf3a-c964135e1bfc"
      },
      "outputs": [
        {
          "output_type": "stream",
          "name": "stdout",
          "text": [
            "+--------------+-----------+-------------+-----------+----+-----------------+\n",
            "|     review_id|star_rating|helpful_votes|total_votes|vine|verified_purchase|\n",
            "+--------------+-----------+-------------+-----------+----+-----------------+\n",
            "|R3T6LR4H11XRAN|          5|           26|         26|   N|                Y|\n",
            "|R3QFNFMFWOQIBO|          3|           15|         25|   N|                Y|\n",
            "|R24S2SV0ZIFIMV|          1|           41|         78|   N|                N|\n",
            "|R3OCONKYE1A047|          5|           33|         38|   N|                N|\n",
            "|R2U7YNJZ5JHWVD|          5|           23|         25|   N|                Y|\n",
            "|R1XVYF74WCJKO3|          1|           47|         49|   N|                N|\n",
            "|R3KKWNG5VABDYC|          5|           31|         32|   Y|                N|\n",
            "|R3KK9MHFLY2BVW|          5|           21|         22|   N|                N|\n",
            "|R2OEP8MGX5K370|          5|           30|         34|   N|                Y|\n",
            "| RTX63ENBKWCXF|          1|           28|         35|   N|                N|\n",
            "|R38I0D0J8O6LB6|          5|          101|        102|   N|                Y|\n",
            "|R16H89H2ZPISOL|          5|           66|         73|   N|                Y|\n",
            "|R1O92J5SV8J8G6|          5|          100|        102|   N|                Y|\n",
            "|R2N899RTMS7B7A|          1|           14|         20|   N|                Y|\n",
            "|R2K2D1XN0J8SD5|          4|           19|         21|   N|                Y|\n",
            "| RERKINI37W6KC|          5|           28|         31|   N|                Y|\n",
            "| R9GDG4O1ZK10T|          1|           71|         86|   N|                Y|\n",
            "|R3GOLJQC9OI7D4|          4|           28|         28|   N|                Y|\n",
            "|R37RUX3TXFJN24|          5|           52|         58|   N|                Y|\n",
            "|R1ESSNVJW3N2K4|          5|           42|         45|   N|                Y|\n",
            "+--------------+-----------+-------------+-----------+----+-----------------+\n",
            "only showing top 20 rows\n",
            "\n"
          ]
        }
      ],
      "source": [
        "vine_table_helpful_votes_over_50.show()"
      ]
    },
    {
      "cell_type": "code",
      "execution_count": 12,
      "metadata": {
        "colab": {
          "base_uri": "https://localhost:8080/"
        },
        "id": "CijcllQ6-2fM",
        "outputId": "c6e154af-f209-45e3-d3b7-6c21eaeb64fa"
      },
      "outputs": [
        {
          "output_type": "stream",
          "name": "stdout",
          "text": [
            "+--------------+-----------+-------------+-----------+----+-----------------+\n",
            "|     review_id|star_rating|helpful_votes|total_votes|vine|verified_purchase|\n",
            "+--------------+-----------+-------------+-----------+----+-----------------+\n",
            "|R3KKWNG5VABDYC|          5|           31|         32|   Y|                N|\n",
            "|R397PIJYYVJ7PD|          4|           31|         32|   Y|                N|\n",
            "| RP6Y2CTIFUYD0|          2|           31|         32|   Y|                N|\n",
            "|R1FYRNM5U0S2VZ|          3|           20|         24|   Y|                N|\n",
            "| R1ME19UY4UNAO|          5|           53|         57|   Y|                N|\n",
            "|R1JW7ZHT2VLT1E|          3|           40|         45|   Y|                N|\n",
            "| R98UYXY43TURV|          4|           46|         50|   Y|                N|\n",
            "|R34VXM3EJDS78Z|          3|          374|        410|   Y|                N|\n",
            "|R1QX8UOW5JO6L0|          4|           20|         21|   Y|                N|\n",
            "| R5Y5SXCRQ2GNH|          3|           34|         37|   Y|                N|\n",
            "|R2PBQNQR80F6HP|          4|           20|         20|   Y|                N|\n",
            "|R1YI5U4BF4ZLRQ|          3|           16|         20|   Y|                N|\n",
            "|R1Q5ZXA44R3E76|          4|           28|         31|   Y|                N|\n",
            "| RCLSDAIJR6FUG|          5|          113|        123|   Y|                N|\n",
            "|R30QKO5AIO2828|          5|           17|         20|   Y|                N|\n",
            "|R3TPSU0ZG7K5RA|          5|           34|         37|   Y|                N|\n",
            "|R3HSQ5EH8IIUOM|          4|           49|         63|   Y|                N|\n",
            "|R2L4DAT0DWS9P3|          4|           28|         29|   Y|                N|\n",
            "|R2TSF7WN3DY921|          5|           22|         26|   Y|                N|\n",
            "|R1LY9Y3SS9JCTR|          2|           53|        100|   Y|                N|\n",
            "+--------------+-----------+-------------+-----------+----+-----------------+\n",
            "only showing top 20 rows\n",
            "\n"
          ]
        }
      ],
      "source": [
        "# Step 3\n",
        "# Filter the DataFrame or table created in Step 2, and create a new DataFrame or table that retrieves all the rows where\n",
        "# a review was written as part of the Vine program (paid), vine == 'Y'.\n",
        "\n",
        "vine_table_vine_y = vine_table_helpful_votes_over_50.filter(vine_table_helpful_votes_over_50.vine == 'Y')\n",
        "vine_table_vine_y.show()"
      ]
    },
    {
      "cell_type": "code",
      "execution_count": 13,
      "metadata": {
        "colab": {
          "base_uri": "https://localhost:8080/"
        },
        "id": "QnYuOxhO_ms1",
        "outputId": "fcab7bbf-5e89-4e40-81d5-a3f1378f0b27"
      },
      "outputs": [
        {
          "output_type": "stream",
          "name": "stdout",
          "text": [
            "+--------------+-----------+-------------+-----------+----+-----------------+\n",
            "|     review_id|star_rating|helpful_votes|total_votes|vine|verified_purchase|\n",
            "+--------------+-----------+-------------+-----------+----+-----------------+\n",
            "|R3T6LR4H11XRAN|          5|           26|         26|   N|                Y|\n",
            "|R3QFNFMFWOQIBO|          3|           15|         25|   N|                Y|\n",
            "|R24S2SV0ZIFIMV|          1|           41|         78|   N|                N|\n",
            "|R3OCONKYE1A047|          5|           33|         38|   N|                N|\n",
            "|R2U7YNJZ5JHWVD|          5|           23|         25|   N|                Y|\n",
            "|R1XVYF74WCJKO3|          1|           47|         49|   N|                N|\n",
            "|R3KK9MHFLY2BVW|          5|           21|         22|   N|                N|\n",
            "|R2OEP8MGX5K370|          5|           30|         34|   N|                Y|\n",
            "| RTX63ENBKWCXF|          1|           28|         35|   N|                N|\n",
            "|R38I0D0J8O6LB6|          5|          101|        102|   N|                Y|\n",
            "|R16H89H2ZPISOL|          5|           66|         73|   N|                Y|\n",
            "|R1O92J5SV8J8G6|          5|          100|        102|   N|                Y|\n",
            "|R2N899RTMS7B7A|          1|           14|         20|   N|                Y|\n",
            "|R2K2D1XN0J8SD5|          4|           19|         21|   N|                Y|\n",
            "| RERKINI37W6KC|          5|           28|         31|   N|                Y|\n",
            "| R9GDG4O1ZK10T|          1|           71|         86|   N|                Y|\n",
            "|R3GOLJQC9OI7D4|          4|           28|         28|   N|                Y|\n",
            "|R37RUX3TXFJN24|          5|           52|         58|   N|                Y|\n",
            "|R1ESSNVJW3N2K4|          5|           42|         45|   N|                Y|\n",
            "|R1Q1VLGAFGHLN7|          2|           78|         85|   N|                Y|\n",
            "+--------------+-----------+-------------+-----------+----+-----------------+\n",
            "only showing top 20 rows\n",
            "\n"
          ]
        }
      ],
      "source": [
        "# Step 4\n",
        "# Repeat Step 3, but this time retrieve all the rows where the review was not part of the Vine program (unpaid), vine == 'N'.\n",
        "\n",
        "vine_table_vine_n = vine_table_helpful_votes_over_50.filter(vine_table_helpful_votes_over_50.vine == 'N')\n",
        "vine_table_vine_n.show()"
      ]
    },
    {
      "cell_type": "code",
      "execution_count": 14,
      "metadata": {
        "colab": {
          "base_uri": "https://localhost:8080/"
        },
        "id": "lY1bltH5_4Yl",
        "outputId": "7eca91bb-cfa8-4b66-af9e-f2e60a5af8de"
      },
      "outputs": [
        {
          "output_type": "stream",
          "name": "stdout",
          "text": [
            "Total number of paid reviews: 5012\n"
          ]
        }
      ],
      "source": [
        "# Step 5\n",
        "# Determine the total number of reviews, the number of 5-star reviews, and the percentage of 5-star reviews for the two types of review (paid vs unpaid).\n",
        "\n",
        "# Total 5-star reviews for paid\n",
        "\n",
        "y_count = vine_table_vine_y.count()\n",
        "print(f\"Total number of paid reviews: {y_count}\")"
      ]
    },
    {
      "cell_type": "code",
      "execution_count": 15,
      "metadata": {
        "colab": {
          "base_uri": "https://localhost:8080/"
        },
        "id": "v-4Ocq3wBgyt",
        "outputId": "72c6f94c-1e93-4306-862c-44a00391e472"
      },
      "outputs": [
        {
          "output_type": "stream",
          "name": "stdout",
          "text": [
            "Total number of unpaid reviews: 109297\n"
          ]
        }
      ],
      "source": [
        "n_count = vine_table_vine_n.count()\n",
        "print(f\"Total number of unpaid reviews: {n_count}\")"
      ]
    },
    {
      "cell_type": "code",
      "execution_count": 16,
      "metadata": {
        "colab": {
          "base_uri": "https://localhost:8080/"
        },
        "id": "M2aNH61oCCoa",
        "outputId": "f4c823cd-cb0a-41bc-faa1-9b33eca7eb96"
      },
      "outputs": [
        {
          "output_type": "stream",
          "name": "stdout",
          "text": [
            "Number of paid 5-star reviews: 2031\n"
          ]
        }
      ],
      "source": [
        "five_y_count = vine_table_vine_y.filter(vine_table_vine_y.star_rating == 5).count()\n",
        "print(f\"Number of paid 5-star reviews: {five_y_count}\")"
      ]
    },
    {
      "cell_type": "code",
      "execution_count": 17,
      "metadata": {
        "colab": {
          "base_uri": "https://localhost:8080/"
        },
        "id": "vfex1uVTC8Tw",
        "outputId": "bfb14d18-d56e-4894-83bc-1aa8bdb580a6"
      },
      "outputs": [
        {
          "output_type": "stream",
          "name": "stdout",
          "text": [
            "Number of unpaid 5-star reviews: 49967\n"
          ]
        }
      ],
      "source": [
        "five_n_count = vine_table_vine_n.filter(vine_table_vine_n.star_rating == 5).count()\n",
        "print(f\"Number of unpaid 5-star reviews: {five_n_count}\")"
      ]
    },
    {
      "cell_type": "code",
      "execution_count": 18,
      "metadata": {
        "colab": {
          "base_uri": "https://localhost:8080/"
        },
        "id": "QsB4mKssDgiu",
        "outputId": "aae49a34-44d3-4327-b8b6-7ef4d3875747"
      },
      "outputs": [
        {
          "output_type": "stream",
          "name": "stdout",
          "text": [
            "Percentage of paid five-star reviews: 40.52274541101357%\n"
          ]
        }
      ],
      "source": [
        "percent_y = five_y_count / y_count * 100\n",
        "print(f\"Percentage of paid five-star reviews: {percent_y}%\")"
      ]
    },
    {
      "cell_type": "code",
      "execution_count": 19,
      "metadata": {
        "colab": {
          "base_uri": "https://localhost:8080/"
        },
        "id": "_egMpgdOEBls",
        "outputId": "fc9c3509-da97-4556-bb7a-cc1a84a0f055"
      },
      "outputs": [
        {
          "output_type": "stream",
          "name": "stdout",
          "text": [
            "Percentage of unpaid five-star reviews: 45.716716835777746%\n"
          ]
        }
      ],
      "source": [
        "percent_n = five_n_count / n_count * 100\n",
        "print(f\"Percentage of unpaid five-star reviews: {percent_n}%\")"
      ]
    },
    {
      "cell_type": "code",
      "execution_count": null,
      "metadata": {
        "id": "OUwhuKBaEO6O"
      },
      "outputs": [],
      "source": []
    }
  ],
  "metadata": {
    "colab": {
      "provenance": []
    },
    "kernelspec": {
      "display_name": "Python 3 (ipykernel)",
      "language": "python",
      "name": "python3"
    },
    "language_info": {
      "codemirror_mode": {
        "name": "ipython",
        "version": 3
      },
      "file_extension": ".py",
      "mimetype": "text/x-python",
      "name": "python",
      "nbconvert_exporter": "python",
      "pygments_lexer": "ipython3",
      "version": "3.8.13"
    },
    "nteract": {
      "version": "0.12.3"
    }
  },
  "nbformat": 4,
  "nbformat_minor": 0
}